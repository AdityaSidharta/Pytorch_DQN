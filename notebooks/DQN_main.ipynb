{
 "cells": [
  {
   "cell_type": "code",
   "execution_count": null,
   "metadata": {},
   "outputs": [],
   "source": [
    "%load_ext autoreload\n",
    "%autoreload 2\n",
    "%matplotlib inline\n",
    "\n",
    "%cd\n",
    "%cd /home/adityasidharta/git/Pytorch_DQN\n",
    "\n",
    "%env PROJECT_PATH = /home/adityasidharta/git/Pytorch_DQN"
   ]
  },
  {
   "cell_type": "code",
   "execution_count": null,
   "metadata": {},
   "outputs": [],
   "source": [
    "import torch\n",
    "import torch.nn as nn\n",
    "import torch.optim as optim\n",
    "import torch.nn.functional as F\n",
    "\n",
    "import gym"
   ]
  },
  {
   "cell_type": "code",
   "execution_count": null,
   "metadata": {},
   "outputs": [],
   "source": [
    "from src.agent import *\n",
    "from src.arch import *\n",
    "from src.config import *\n",
    "from src.envs import *\n",
    "from src.learner import *\n",
    "from src.memory import *\n",
    "from src.policy import *\n",
    "from src.cacher import *"
   ]
  },
  {
   "cell_type": "markdown",
   "metadata": {},
   "source": [
    "# Cartpole"
   ]
  },
  {
   "cell_type": "code",
   "execution_count": null,
   "metadata": {},
   "outputs": [],
   "source": [
    "BATCH_SIZE = 128\n",
    "GAMMA = 0.999\n",
    "EPS_START = 0.95\n",
    "EPS_END = 0.05\n",
    "EPS_DECAY = 400\n",
    "N_TARGET_UPDATE = 10\n",
    "N_EPISODE = 500\n",
    "DEVICE = torch.device(\"cuda\" if torch.cuda.is_available() else \"cpu\")\n",
    "MEMORY_SPACE = 50000\n",
    "OBSERVATION_SPACE = (4,)\n",
    "ACTION_SPACE = 2"
   ]
  },
  {
   "cell_type": "code",
   "execution_count": null,
   "metadata": {},
   "outputs": [],
   "source": [
    "arch = CartNet(1000).to(DEVICE)\n",
    "config = Config(BATCH_SIZE, GAMMA, EPS_START, EPS_END, EPS_DECAY, \n",
    "                N_TARGET_UPDATE, N_EPISODE, DEVICE, MEMORY_SPACE, \n",
    "                OBSERVATION_SPACE,\n",
    "                ACTION_SPACE)\n",
    "envs = gym.make('CartPole-v0').unwrapped\n",
    "learner = Learner(arch, optim.RMSprop)\n",
    "memory = Memory(MEMORY_SPACE, OBSERVATION_SPACE)\n",
    "policy = EGreedy()\n",
    "cacher = Cacher()\n",
    "agent = Agent(learner, memory, policy, envs, config, cacher)\n",
    "\n",
    "print(envs.action_space)\n",
    "print(envs.observation_space)"
   ]
  },
  {
   "cell_type": "code",
   "execution_count": null,
   "metadata": {},
   "outputs": [],
   "source": [
    "agent.train_agent()"
   ]
  },
  {
   "cell_type": "code",
   "execution_count": null,
   "metadata": {},
   "outputs": [],
   "source": [
    "agent.play_agent(10)"
   ]
  },
  {
   "cell_type": "code",
   "execution_count": null,
   "metadata": {},
   "outputs": [],
   "source": [
    "agent.cacher.plot_cacher('train_reward')"
   ]
  },
  {
   "cell_type": "code",
   "execution_count": null,
   "metadata": {},
   "outputs": [],
   "source": [
    "agent.cacher.plot_cacher('play_reward')"
   ]
  },
  {
   "cell_type": "markdown",
   "metadata": {},
   "source": [
    "# Lunar Lander"
   ]
  },
  {
   "cell_type": "code",
   "execution_count": null,
   "metadata": {},
   "outputs": [],
   "source": [
    "BATCH_SIZE = 128\n",
    "GAMMA = 0.999\n",
    "EPS_START = 0.95\n",
    "EPS_END = 0.05\n",
    "EPS_DECAY = 8000\n",
    "N_TARGET_UPDATE = 10\n",
    "N_EPISODE = 10000\n",
    "DEVICE = torch.device(\"cuda\" if torch.cuda.is_available() else \"cpu\")\n",
    "MEMORY_SPACE = 50000\n",
    "OBSERVATION_SPACE = (8,)\n",
    "ACTION_SPACE = 4"
   ]
  },
  {
   "cell_type": "code",
   "execution_count": null,
   "metadata": {},
   "outputs": [],
   "source": [
    "arch = LunarNet(1000).to(DEVICE)\n",
    "config = Config(BATCH_SIZE, GAMMA, EPS_START, EPS_END, EPS_DECAY, \n",
    "                N_TARGET_UPDATE, N_EPISODE, DEVICE, MEMORY_SPACE, \n",
    "                OBSERVATION_SPACE,\n",
    "                ACTION_SPACE)\n",
    "envs = gym.make('LunarLander-v2').unwrapped\n",
    "learner = Learner(arch, optim.RMSprop)\n",
    "memory = Memory(MEMORY_SPACE, OBSERVATION_SPACE)\n",
    "policy = EGreedy()\n",
    "cacher = Cacher()\n",
    "agent = Agent(learner, memory, policy, envs, config, cacher)\n",
    "\n",
    "print(envs.action_space)\n",
    "print(envs.observation_space)"
   ]
  },
  {
   "cell_type": "code",
   "execution_count": null,
   "metadata": {},
   "outputs": [],
   "source": [
    "agent.train_agent(N_EPISODE)"
   ]
  },
  {
   "cell_type": "code",
   "execution_count": null,
   "metadata": {},
   "outputs": [],
   "source": [
    "agent.play_agent(10)"
   ]
  },
  {
   "cell_type": "code",
   "execution_count": null,
   "metadata": {},
   "outputs": [],
   "source": [
    "agent.cacher.plot_cacher('train_reward')"
   ]
  },
  {
   "cell_type": "code",
   "execution_count": null,
   "metadata": {},
   "outputs": [],
   "source": [
    "agent.cacher.plot_cacher('play_reward')"
   ]
  },
  {
   "cell_type": "code",
   "execution_count": null,
   "metadata": {},
   "outputs": [],
   "source": []
  }
 ],
 "metadata": {
  "kernelspec": {
   "display_name": "Python 3",
   "language": "python",
   "name": "python3"
  },
  "language_info": {
   "codemirror_mode": {
    "name": "ipython",
    "version": 3
   },
   "file_extension": ".py",
   "mimetype": "text/x-python",
   "name": "python",
   "nbconvert_exporter": "python",
   "pygments_lexer": "ipython3",
   "version": "3.6.5"
  }
 },
 "nbformat": 4,
 "nbformat_minor": 2
}
