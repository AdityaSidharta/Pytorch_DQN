{
 "cells": [
  {
   "cell_type": "code",
   "execution_count": null,
   "metadata": {},
   "outputs": [],
   "source": [
    "%load_ext autoreload\n",
    "%autoreload 2\n",
    "%matplotlib inline\n",
    "\n",
    "%cd\n",
    "%cd /home/aditya/git/Pytorch_DQN\n",
    "\n",
    "%env PROJECT_PATH = /home/aditya/git/Pytorch_DQN"
   ]
  },
  {
   "cell_type": "code",
   "execution_count": null,
   "metadata": {},
   "outputs": [],
   "source": [
    "import torch\n",
    "import torch.nn as nn\n",
    "import torch.optim as optim\n",
    "import torch.nn.functional as F\n",
    "\n",
    "import gym"
   ]
  },
  {
   "cell_type": "code",
   "execution_count": null,
   "metadata": {},
   "outputs": [],
   "source": [
    "from src.agent import *\n",
    "from src.arch import *\n",
    "from src.config import *\n",
    "from src.envs import *\n",
    "from src.learner import *\n",
    "from src.memory import *\n",
    "from src.policy import *\n",
    "from src.cacher import *"
   ]
  },
  {
   "cell_type": "markdown",
   "metadata": {},
   "source": [
    "# Cartpole"
   ]
  },
  {
   "cell_type": "code",
   "execution_count": null,
   "metadata": {},
   "outputs": [],
   "source": [
    "BATCH_SIZE = 128\n",
    "GAMMA = 0.999\n",
    "EPS_START = 0.95\n",
    "EPS_END = 0.05\n",
    "EPS_DECAY = 200\n",
    "N_TARGET_UPDATE = 10\n",
    "N_EPISODE = 100\n",
    "DEVICE = torch.device(\"cuda\" if torch.cuda.is_available() else \"cpu\")\n",
    "MEMORY_SPACE = 5000\n",
    "OBSERVATION_SPACE = 4\n",
    "ACTION_TYPE = 'DISCRETE'\n",
    "ACTION_SPACE = 2\n",
    "ACTION_LOW = None\n",
    "ACTION_HIGH = None"
   ]
  },
  {
   "cell_type": "code",
   "execution_count": null,
   "metadata": {},
   "outputs": [],
   "source": [
    "arch = CartNet(100).to(DEVICE)\n",
    "config = Config(BATCH_SIZE, GAMMA, EPS_START, EPS_END, EPS_DECAY, \n",
    "                N_TARGET_UPDATE, N_EPISODE, DEVICE, MEMORY_SPACE, \n",
    "                OBSERVATION_SPACE, ACTION_TYPE, \n",
    "                ACTION_SPACE, ACTION_HIGH, ACTION_LOW)\n",
    "envs = gym.make('CartPole-v0').unwrapped\n",
    "learner = Learner(arch, optim.RMSprop)\n",
    "memory = Memory(MEMORY_SPACE, OBSERVATION_SPACE)\n",
    "policy = EGreedy()\n",
    "cacher = Cacher()\n",
    "agent = Agent(learner, memory, policy, envs, config, cacher)\n",
    "\n",
    "print(envs.action_space)\n",
    "print(envs.observation_space)"
   ]
  },
  {
   "cell_type": "code",
   "execution_count": null,
   "metadata": {},
   "outputs": [],
   "source": [
    "agent.train_agent(1000)"
   ]
  },
  {
   "cell_type": "code",
   "execution_count": null,
   "metadata": {},
   "outputs": [],
   "source": [
    "agent.cacher.plot_cacher('train_eps')"
   ]
  },
  {
   "cell_type": "markdown",
   "metadata": {},
   "source": [
    "# Lunar Lander"
   ]
  },
  {
   "cell_type": "code",
   "execution_count": null,
   "metadata": {},
   "outputs": [],
   "source": [
    "BATCH_SIZE = 128\n",
    "GAMMA = 0.999\n",
    "EPS_START = 0.9\n",
    "EPS_END = 0.05\n",
    "EPS_DECAY = 200\n",
    "N_TARGET_UPDATE = 10\n",
    "N_EPISODE = 100\n",
    "DEVICE = torch.device(\"cuda\" if torch.cuda.is_available() else \"cpu\")\n",
    "MEMORY_SPACE = 5000\n",
    "OBSERVATION_SPACE = 8\n",
    "ACTION_TYPE = 'DISCRETE'\n",
    "ACTION_SPACE = 4\n",
    "ACTION_LOW = None\n",
    "ACTION_HIGH = None"
   ]
  },
  {
   "cell_type": "code",
   "execution_count": null,
   "metadata": {},
   "outputs": [],
   "source": [
    "arch = LunarNet(500).to(DEVICE)\n",
    "config = Config(BATCH_SIZE, GAMMA, EPS_START, EPS_END, EPS_DECAY, \n",
    "                N_TARGET_UPDATE, N_EPISODE, DEVICE, MEMORY_SPACE, \n",
    "                OBSERVATION_SPACE, ACTION_TYPE, \n",
    "                ACTION_SPACE, ACTION_HIGH, ACTION_LOW)\n",
    "envs = gym.make('LunarLander-v2').unwrapped\n",
    "learner = Learner(arch, optim.RMSprop)\n",
    "memory = Memory(MEMORY_SPACE, OBSERVATION_SPACE)\n",
    "policy = EGreedy()\n",
    "cacher = Cacher()\n",
    "agent = Agent(learner, memory, policy, envs, config, cacher)\n",
    "\n",
    "print(envs.action_space)\n",
    "print(envs.observation_space)"
   ]
  },
  {
   "cell_type": "code",
   "execution_count": null,
   "metadata": {},
   "outputs": [],
   "source": [
    "agent.train_agent(1000)"
   ]
  },
  {
   "cell_type": "code",
   "execution_count": null,
   "metadata": {},
   "outputs": [],
   "source": [
    "agent.cacher.plot_cacher('train_eps')"
   ]
  },
  {
   "cell_type": "code",
   "execution_count": null,
   "metadata": {},
   "outputs": [],
   "source": []
  }
 ],
 "metadata": {
  "kernelspec": {
   "display_name": "Python 3",
   "language": "python",
   "name": "python3"
  },
  "language_info": {
   "codemirror_mode": {
    "name": "ipython",
    "version": 3
   },
   "file_extension": ".py",
   "mimetype": "text/x-python",
   "name": "python",
   "nbconvert_exporter": "python",
   "pygments_lexer": "ipython3",
   "version": "3.6.8"
  }
 },
 "nbformat": 4,
 "nbformat_minor": 2
}
